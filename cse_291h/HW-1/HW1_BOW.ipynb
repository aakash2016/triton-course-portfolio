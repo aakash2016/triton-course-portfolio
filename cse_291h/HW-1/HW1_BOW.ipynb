{
 "cells": [
  {
   "cell_type": "markdown",
   "id": "19fd5ca9-1175-4162-a968-092013609a70",
   "metadata": {},
   "source": [
    "# Bag of Words Model"
   ]
  },
  {
   "cell_type": "markdown",
   "id": "6dfe5c20-80ec-46f7-a94b-28bcb980c5ec",
   "metadata": {},
   "source": [
    "**Dataset**: NYT dataset contains a **text** column consisting of news articles and a **label** column indicating the category to which this article belongs.\n",
    "\n",
    "**Goal**: Train a text classifier using the following document representation techniques and report accuracy, macro-f1 score, and micro-f1 score on the test set.\n",
    "\n",
    "* Each document is represented as a **binary-valued** vector of dimension equal to the size of the vocabulary. The value at an index is 1 if the word corresponding to that index is present in the document, else 0.\n",
    "* A document is represented by a vector of dimension equal to the size of the vocabulary where the value corresponding to each word is its **frequency** in the document.\n",
    "* Each document is represented by a vector of dimension equal to the size of the vocabulary where the value corresponding to each word is its **tf-idf** value.\n",
    "  \n",
    "Use the **logistic regression** classifier."
   ]
  },
  {
   "cell_type": "code",
   "execution_count": 1,
   "id": "ff591ba8-dac1-4a2e-aea8-187c20df3ef2",
   "metadata": {},
   "outputs": [
    {
     "data": {
      "text/plain": [
       "<Figure size 800x600 with 0 Axes>"
      ]
     },
     "metadata": {},
     "output_type": "display_data"
    }
   ],
   "source": [
    "# import required libraries\n",
    "import re\n",
    "import pandas as pd\n",
    "import numpy as np\n",
    "\n",
    "import seaborn as sns\n",
    "import matplotlib.pyplot as plt\n",
    "\n",
    "plt.figure(figsize=(8, 6))\n",
    "\n",
    "from tqdm import tqdm\n",
    "from pprint import pprint\n",
    "from scipy import sparse\n",
    "from collections import defaultdict, Counter\n",
    "\n",
    "from sklearn.linear_model import LogisticRegression\n",
    "from sklearn.model_selection import train_test_split, GridSearchCV, PredefinedSplit\n",
    "from sklearn.metrics import classification_report, confusion_matrix, accuracy_score, f1_score\n",
    "\n",
    "# custom visualisation styling\n",
    "custom = {\"axes.edgecolor\": \"red\", \"grid.linestyle\": \"dashed\", \"grid.color\": \"black\"}\n",
    "sns.set_style(\"darkgrid\", rc=custom)"
   ]
  },
  {
   "cell_type": "code",
   "execution_count": 2,
   "id": "f11fcb42-d470-45d4-93a8-0ec68eb2f8ad",
   "metadata": {},
   "outputs": [
    {
     "name": "stdout",
     "output_type": "stream",
     "text": [
      "(11519, 2)\n"
     ]
    }
   ],
   "source": [
    "# load NYT dataset\n",
    "data = pd.read_csv(\"nyt.csv\")\n",
    "print(data.shape)"
   ]
  },
  {
   "cell_type": "code",
   "execution_count": 3,
   "id": "f9c7c36a-1957-4c37-8f84-fe420ba69180",
   "metadata": {},
   "outputs": [
    {
     "name": "stdout",
     "output_type": "stream",
     "text": [
      "Index(['text', 'label'], dtype='object')\n"
     ]
    },
    {
     "data": {
      "text/plain": [
       "<Axes: xlabel='label', ylabel='count'>"
      ]
     },
     "execution_count": 3,
     "metadata": {},
     "output_type": "execute_result"
    },
    {
     "data": {
      "image/png": "[encoded data removed]",
      "text/plain": [
       "<Figure size 500x300 with 1 Axes>"
      ]
     },
     "metadata": {},
     "output_type": "display_data"
    }
   ],
   "source": [
    "# check available columns\n",
    "df = data.copy()\n",
    "print(df.columns)\n",
    "\n",
    "plt.figure(figsize=(5,3))\n",
    "sns.countplot(data=df, x='label')"
   ]
  },
  {
   "cell_type": "code",
   "execution_count": 4,
   "id": "3c85f7a7-ecc1-4f10-91da-87b6ded96082",
   "metadata": {},
   "outputs": [
    {
     "name": "stdout",
     "output_type": "stream",
     "text": [
      "manchester, england — wayne rooney scored twice against bayer leverkusen on tuesday to reach 200 manchester united goals as he enjoys a new lease of life under david moyes who thinks he can become one of the club's greatest predators.the striker's commitment to old trafford had been questioned and he was left out of key games last season under alex ferguson, who also took to playing him in more of a midfield role as robin van persie took the goalscoring glory.rooney is fourth on united's all-time leading scorers' list, behind bobby charlton, denis law (237) and jack rowley (211) and his manager can see him going further.\"i remember coming in and saying you've got a real chance to be one of the all-time leading goalscorers at this club and i tell you what if he keeps playing like he did tonight he will get there,\" moyes told a news conference .along with the rousing reception rooney has been getting from the old trafford crowd, despite a turbulent few months, moyes' faith in him seems to have lifted the england striker's mood and his game. ferguson had said in may that rooney wanted to leave the club, triggering a close season of speculation over his future and an ultimately unsuccessful but very public pursuit by chelsea and jose mourinho for his signature.as the rumours swirled, rooney himself never spoke publicly on the matter and on tuesday when asked about it he was still keen to avoid the issue of whether he wanted to stay or go.\"listen, i will concentrate on my football as i have done all summer,\" he told itv after a 4-2 victory over leverkusen in their champions league opener. \"i got my head down in the summer, worked hard and i'm concentrating on my football .\"the fans here have been fantastic with me and the reception i get here is great. hopefully i can reward them with goals and performances like tonight.\" moyes had long said rooney was training well and was in a good frame of mind and slowly but surely he has been proven right as the striker - deployed in his more traditional role - has enjoyed a good start to the season.having been united's best player in last month's 0-0 draw with chelsea in the premier league and having scored from a free kick in saturday's 2-0 win over crystal palace, rooney took his performance to a new level against leverkusen .he volleyed in a 22nd-minute opener, netted the third with a right- footed shot to bring up 200 for united and then passed superbly to assist the fourth scored by antonio valencia .his goals have come since he started wearing a headband to protect his forehead after suffering a deep gash and, whether that is a lucky charm or a mere coincidence, rooney is delighted to have reached another milestone.\"it's something i'm very proud of, i'm pleased to score 200 goals for a club like manchester united and hopefully there is more to come,\" he said.\"i'm delighted to be back playing and scoring and this was a good result. the first game in the champions league is always important and thankfully we got the victory.\"it has taken rooney 406 appearances to notch his double century, meaning he averages nearly a goal a game, and being still only 27 years old, he has time to overtake charlton.\"it (the record) was something we made him aware of,\" moyes said. \"more importantly, i wanted to get him back in a good condition and mentally correct when he was ready to play,\"i think you see (that, he is moving as well as he has done, he's in a good place himself at the moment, any centre forward who is scoring goals feels good about himself.\"rooney's latest goals took him to second in united's champions league scorers chart, past ryan giggs . he now has 30 goals, eight shy of ruud van nistelrooy's record tally. leverkusen manager sami hyypia could only watch in awe as rooney tore his side apart.\"he showed he can score a lot of goals,\" the former liverpool defender, who knows from his playing days how hard it is to come up against rooney, told a news conference .\"he still has a few years left, to score 200 goals is a good achievement... it looks so easy how he is playing, he showed today he is a quality player.\"\n"
     ]
    }
   ],
   "source": [
    "# check random datapoint\n",
    "idx = np.random.randint(len(df))\n",
    "print(df.text[idx])"
   ]
  },
  {
   "cell_type": "code",
   "execution_count": 5,
   "id": "803aa343-417b-4d8a-9e9a-841554c83c4c",
   "metadata": {},
   "outputs": [
    {
     "data": {
      "text/plain": [
       "label\n",
       "sports      8639\n",
       "politics    1451\n",
       "business    1429\n",
       "Name: count, dtype: int64"
      ]
     },
     "execution_count": 5,
     "metadata": {},
     "output_type": "execute_result"
    }
   ],
   "source": [
    "# check num classes in label column -> multi class classification\n",
    "df.label.value_counts()"
   ]
  },
  {
   "cell_type": "code",
   "execution_count": 6,
   "id": "237d4224-00d8-4391-871a-727ef7c5775a",
   "metadata": {},
   "outputs": [
    {
     "name": "stdout",
     "output_type": "stream",
     "text": [
      "{0: 'business', 1: 'politics', 2: 'sports'}\n"
     ]
    }
   ],
   "source": [
    "# convert the target variable data type from string to numeric\n",
    "mapped_classes = df.label.astype('category')\n",
    "hm_class = dict(enumerate(mapped_classes.cat.categories))\n",
    "print(hm_class)\n",
    "\n",
    "df['label'] = df.label.astype('category').cat.codes"
   ]
  },
  {
   "cell_type": "markdown",
   "id": "e9014c41-ad23-4795-bd9c-7f088e23c6e8",
   "metadata": {},
   "source": [
    "### Preprocessing and vocab generation"
   ]
  },
  {
   "cell_type": "code",
   "execution_count": 7,
   "id": "6898091e-2ffd-4f19-954e-a9c7b4fd5123",
   "metadata": {},
   "outputs": [],
   "source": [
    "# required libraries from nltk for preprocessing\n",
    "from nltk.corpus import stopwords\n",
    "from nltk.stem import PorterStemmer \n",
    "from nltk.tokenize import word_tokenize, sent_tokenize\n",
    "\n",
    "ps = PorterStemmer()\n",
    "stop = set(stopwords.words('english'))"
   ]
  },
  {
   "cell_type": "code",
   "execution_count": 8,
   "id": "175f4a21-61b7-4bb1-bb0d-e3be7692b3f4",
   "metadata": {},
   "outputs": [],
   "source": [
    "# common preprocessing function\n",
    "def clean_text_and_tokenise(doc):\n",
    "    # remove non-alpha numeric characters and strip off braces\n",
    "    doc = re.sub(r'[^\\w\\s]', ' ', doc)\n",
    "    doc = re.sub(r'[\\{\\}\\[\\]\\(\\)]', '', doc)\n",
    "    \n",
    "    # remove stopwords and apply stemming\n",
    "    tokens = doc.lower().split(\" \")\n",
    "    tokens = [ps.stem(word) for word in tokens if word not in stop and 0 < len(word) < 15]\n",
    "    return tokens"
   ]
  },
  {
   "cell_type": "code",
   "execution_count": 9,
   "id": "abc114e6-dc27-4792-a055-8e65a24579e8",
   "metadata": {},
   "outputs": [],
   "source": [
    "# helper function to get vocabulary from the corpus of docs\n",
    "def get_frequency_count_from_docs(doc):\n",
    "    # apply preprocessing and tokenisation\n",
    "    tokens = clean_text_and_tokenise(doc)\n",
    "\n",
    "    # get vocab with frequencies\n",
    "    vocab_hm = Counter(tokens)\n",
    "    \n",
    "    return dict(vocab_hm)"
   ]
  },
  {
   "cell_type": "code",
   "execution_count": 10,
   "id": "2d7878a1-e389-4e16-a908-88984283624b",
   "metadata": {},
   "outputs": [],
   "source": [
    "# helper function to get doc frequency\n",
    "def get_word_frequency_across_doc(df, col, vocab_hm):\n",
    "    DF = defaultdict(float)\n",
    "    for doc in tqdm(df[col]):\n",
    "        # preprocess and get tokens\n",
    "        tokens = clean_text_and_tokenise(doc)\n",
    "        for token in set(tokens):\n",
    "            # check if the word exists in vocab\n",
    "            if token in vocab_hm:\n",
    "                DF[token] += 1\n",
    "    return DF"
   ]
  },
  {
   "cell_type": "code",
   "execution_count": 11,
   "id": "077674e6-8bdc-4047-bc1b-2927640dd9dc",
   "metadata": {},
   "outputs": [
    {
     "name": "stderr",
     "output_type": "stream",
     "text": [
      "100%|████████████████████████████████████| 11519/11519 [00:36<00:00, 319.86it/s]\n"
     ]
    }
   ],
   "source": [
    "# get entire raw corpus and lower\n",
    "corpus = ' '.join(list(df[\"text\"])).lower()\n",
    "\n",
    "# get vocab from corpus\n",
    "vocab_hm = get_frequency_count_from_docs(corpus)\n",
    "\n",
    "# get document frequency map\n",
    "df_hm = get_word_frequency_across_doc(df, \"text\", vocab_hm)"
   ]
  },
  {
   "cell_type": "code",
   "execution_count": 12,
   "id": "f471a989-0a59-427f-98d7-041fdec1538c",
   "metadata": {},
   "outputs": [
    {
     "name": "stdout",
     "output_type": "stream",
     "text": [
      "11519 45855\n"
     ]
    }
   ],
   "source": [
    "# check total words in vocabulary and total docs\n",
    "n_vocab = len(vocab_hm)\n",
    "n_docs = len(df)\n",
    "print(n_docs, n_vocab)"
   ]
  },
  {
   "cell_type": "code",
   "execution_count": 13,
   "id": "ca2e3771-54d7-45b6-8a03-7983a83afc48",
   "metadata": {},
   "outputs": [
    {
     "name": "stdout",
     "output_type": "stream",
     "text": [
      "Most Frequent words in Vocabulary: \n",
      "\n",
      "{'first': 24314,\n",
      " 'game': 34839,\n",
      " 'one': 22029,\n",
      " 'play': 23563,\n",
      " 'said': 59594,\n",
      " 'season': 20036,\n",
      " 'team': 18769,\n",
      " 'time': 18867,\n",
      " 'two': 22526,\n",
      " 'year': 29132}\n",
      "Least Frequent words in Vocabulary: \n",
      "\n",
      "{'budson': 1,\n",
      " 'economix': 1,\n",
      " 'emerton': 1,\n",
      " 'fatalist': 1,\n",
      " 'kerrilyn': 1,\n",
      " 'nrl': 1,\n",
      " 'paducah': 1,\n",
      " 'regionq': 1,\n",
      " 'shesaidy': 1,\n",
      " 'taronga': 1}\n"
     ]
    }
   ],
   "source": [
    "# check 10 most and least frequent words for sanity\n",
    "sorted_vocab = sorted(list(vocab_hm.items()), key = lambda x : -x[1])\n",
    "\n",
    "print(\"Most Frequent words in Vocabulary: \\n\")\n",
    "pprint(dict(sorted_vocab[:10]))\n",
    "print(\"Least Frequent words in Vocabulary: \\n\")\n",
    "pprint(dict(sorted_vocab[-10:]))"
   ]
  },
  {
   "cell_type": "markdown",
   "id": "2409f15d-560e-4685-a90b-190e0c5cce26",
   "metadata": {},
   "source": [
    "### Bag of Word Representations"
   ]
  },
  {
   "cell_type": "code",
   "execution_count": 14,
   "id": "d067d20b-3f5b-419b-9dce-e3569b22f411",
   "metadata": {},
   "outputs": [],
   "source": [
    "# index vocab hashmap\n",
    "indexed_vocab_hm = {key: index for index, key in enumerate(vocab_hm.keys())}"
   ]
  },
  {
   "cell_type": "code",
   "execution_count": 15,
   "id": "96aba32c-056b-49de-be9c-be458e1bf68a",
   "metadata": {},
   "outputs": [],
   "source": [
    "# we can create a custom function to create binarised embeddings of a doc using vocabulary\n",
    "def get_doc_representation(doc, name=\"binary\"):\n",
    "    # assertion check\n",
    "    assert name in [\"binary\", \"count\", \"tfidf\"]\n",
    "    \n",
    "    # initialise the vector represntation\n",
    "    vector = np.zeros(n_vocab, dtype=np.int64)\n",
    "\n",
    "    # get raw doc tokens\n",
    "    doc_tokens = clean_text_and_tokenise(doc)\n",
    "\n",
    "    # count of words in doc\n",
    "    if name != \"binary\":\n",
    "        doc_hm = dict(Counter(doc_tokens))\n",
    "    \n",
    "    for word in set(doc_tokens):\n",
    "        if word in indexed_vocab_hm:\n",
    "            idx = indexed_vocab_hm[word]\n",
    "            if name == \"binary\":\n",
    "                vector[idx] = 1\n",
    "            elif name == \"count\":\n",
    "                vector[idx] = doc_hm[word]\n",
    "            else:\n",
    "                # maximum frequency normalisation\n",
    "                tf = 0.5 + 0.5 * doc_hm[word] / max(doc_hm.values())\n",
    "\n",
    "                # long idf\n",
    "                idf = 1 + np.log(n_docs / df_hm[word])\n",
    "\n",
    "                # tfidf\n",
    "                vector[idx] = tf * idf\n",
    "            \n",
    "    return list(vector)"
   ]
  },
  {
   "cell_type": "markdown",
   "id": "41afb467-ae94-4c6b-ba92-6a73db60be24",
   "metadata": {},
   "source": [
    "### Modeling"
   ]
  },
  {
   "cell_type": "markdown",
   "id": "5d01118d-8e12-40d9-a154-c77c910c6aaa",
   "metadata": {},
   "source": [
    "#### Train-Test-Validation splits"
   ]
  },
  {
   "cell_type": "code",
   "execution_count": 16,
   "id": "55344dd6-f2dc-4a1c-80aa-bc4539361bbd",
   "metadata": {},
   "outputs": [],
   "source": [
    "# split training data into train(10%) and validation(10%)\n",
    "train_ratio = 0.8\n",
    "test_ratio = 0.1\n",
    "validation_ratio = 0.1\n",
    "\n",
    "def get_data_splits(df, name, use_sparse=True):\n",
    "    # target\n",
    "    Y = df[\"label\"]\n",
    "    df = df.drop(['label'], axis=1)\n",
    "    \n",
    "    if name in [\"binary\", \"count\"]:\n",
    "        # apply vectorisation to the documents\n",
    "        df[\"bow_vector\"] = df['text'].apply(lambda x: get_doc_representation(x, name))\n",
    "        X = list(df[\"bow_vector\"])\n",
    "    else:\n",
    "        # case of tfidf - we want train/test/val to be seperate first\n",
    "        X = df\n",
    "\n",
    "    # train test splits\n",
    "    train_x, val_x, train_y, val_y = train_test_split(X, Y, test_size=1-train_ratio, random_state=42)\n",
    "    val_x, test_x, val_y, test_y = train_test_split(\n",
    "        val_x, \n",
    "        val_y, \n",
    "        test_size=validation_ratio/(test_ratio + validation_ratio), \n",
    "        random_state=42\n",
    "    )\n",
    "\n",
    "    # we apply tfidf seperately for each of the sets \n",
    "    if name == \"tfidf\":\n",
    "        train_x = list(train_x['text'].apply(lambda x: get_doc_representation(x, name)))\n",
    "        val_x = list(val_x['text'].apply(lambda x: get_doc_representation(x, name)))\n",
    "        test_x = list(test_x['text'].apply(lambda x: get_doc_representation(x, name)))\n",
    "        \n",
    "    # convert to sparse matrix to speed up training\n",
    "    if use_sparse:\n",
    "        train_x = sparse.csr_matrix(train_x)\n",
    "        test_x = sparse.csr_matrix(test_x)\n",
    "        val_x = sparse.csr_matrix(val_x)\n",
    "        \n",
    "    return train_x, val_x, test_x, train_y, val_y, test_y"
   ]
  },
  {
   "cell_type": "markdown",
   "id": "3e785404-6513-4be4-bc83-9c19bba66d07",
   "metadata": {},
   "source": [
    "#### Training"
   ]
  },
  {
   "cell_type": "code",
   "execution_count": 25,
   "id": "40d26ad0-ca0c-40ab-9d15-ea8b339f47b0",
   "metadata": {},
   "outputs": [],
   "source": [
    "# logistic regression model using \"one-vs-rest\" strategy and Grid Search cross validation\n",
    "# we have a predefined validation dataset\n",
    "def get_best_LR(X, Y, split_index, param_grid):\n",
    "    pds = PredefinedSplit(split_index)\n",
    "    \n",
    "    # hyperparameter tuning using grid search\n",
    "    grid_search = GridSearchCV(LogisticRegression(), param_grid, cv=pds, scoring='accuracy')\n",
    "    grid_search.fit(X, Y)\n",
    "    \n",
    "    best_model = grid_search.best_estimator_\n",
    "    best_params = grid_search.best_params_\n",
    "    best_score = grid_search.best_score_\n",
    "\n",
    "    print(\"Best Parameters:\", best_params, \"Best Accuracy on Validation set\", best_score)\n",
    "    return best_model"
   ]
  },
  {
   "cell_type": "code",
   "execution_count": 18,
   "id": "ccee4c09-3ed2-413c-b141-09863610fc5d",
   "metadata": {},
   "outputs": [],
   "source": [
    "def print_metrics(y, y_pred):\n",
    "    print(\"Accuracy:\", accuracy_score(y, y_pred))\n",
    "    print(\"Macro F1 Score:\", f1_score(y, y_pred, average='macro'))\n",
    "    print(\"Micro F1 Score:\", f1_score(y, y_pred, average='micro'))"
   ]
  },
  {
   "cell_type": "markdown",
   "id": "6073ead2-abc6-4c8e-8427-78cf6649cb67",
   "metadata": {},
   "source": [
    "## 1a. Binarised Document Representation "
   ]
  },
  {
   "cell_type": "code",
   "execution_count": 40,
   "id": "05c9b277-a097-49f7-864f-beb4df8b7fde",
   "metadata": {},
   "outputs": [
    {
     "name": "stdout",
     "output_type": "stream",
     "text": [
      "train_data_size: 79.9983%, validation_data_size: 10.0009%, test_data_size: 10.0009%\n"
     ]
    }
   ],
   "source": [
    "# get train/test/validation sets\n",
    "train_x, val_x, test_x, train_y, val_y, test_y = get_data_splits(df, \"binary\", use_sparse=False)\n",
    "\n",
    "print(\n",
    "    \"train_data_size: {}%, validation_data_size: {}%, test_data_size: {}%\".format(\n",
    "    round(100 * len(train_x)/len(df), 4), \n",
    "    round(100 * len(val_x)/len(df), 4), \n",
    "    round(100 * len(test_x)/len(df), 4))\n",
    ")"
   ]
  },
  {
   "cell_type": "code",
   "execution_count": 41,
   "id": "6f337552-fe1b-4123-9370-00795b8a7d33",
   "metadata": {},
   "outputs": [],
   "source": [
    "# concat train and val for predefined validation dataset\n",
    "split_index = [-1]*len(train_x) + [0]*len(val_x)\n",
    "X = np.concatenate((train_x, val_x), axis=0)\n",
    "Y = np.concatenate((train_y, val_y), axis=0)\n",
    "\n",
    "# get sparse representations\n",
    "sparse_X = sparse.csr_matrix(X)\n",
    "sparse_test_x = sparse.csr_matrix(test_x)"
   ]
  },
  {
   "cell_type": "code",
   "execution_count": 42,
   "id": "33180d59-cb4f-4d2b-a17d-a920ce9f17ce",
   "metadata": {},
   "outputs": [
    {
     "name": "stdout",
     "output_type": "stream",
     "text": [
      "Best Parameters: {'C': 0.1, 'class_weight': 'balanced', 'max_iter': 100} Best Accuracy on Validation set 0.9817708333333334\n"
     ]
    }
   ],
   "source": [
    "# training and finding the best model\n",
    "# hyperparameter space\n",
    "param_grid = {\n",
    "    'C': [0.001, 0.1, 1, 10, 100], # Regularization strength\n",
    "    'max_iter': [100, 200],  # Maximum iterations\n",
    "    'class_weight': [None, 'balanced']  # To handle class imbalance\n",
    "}\n",
    "\n",
    "model_binary = get_best_LR(sparse_X, Y, split_index, param_grid)"
   ]
  },
  {
   "cell_type": "markdown",
   "id": "017ef402-e9f1-4a7f-89a5-fa66ecf43d50",
   "metadata": {},
   "source": [
    "#### Inference on test set"
   ]
  },
  {
   "cell_type": "code",
   "execution_count": 43,
   "id": "a32a698d-fc31-4ca3-96b2-0ab7059b65e0",
   "metadata": {},
   "outputs": [
    {
     "name": "stdout",
     "output_type": "stream",
     "text": [
      "Accuracy: 0.9774305555555556\n",
      "Macro F1 Score: 0.9409356853143893\n",
      "Micro F1 Score: 0.9774305555555556\n"
     ]
    }
   ],
   "source": [
    "# infer using the best model on the test set\n",
    "y_test_pred = model_binary.predict(sparse_test_x)\n",
    "\n",
    "# calculate metrics on the test set\n",
    "print_metrics(test_y, y_test_pred)"
   ]
  },
  {
   "cell_type": "code",
   "execution_count": 44,
   "id": "c780cbf3-e5d3-4a8e-bc69-6fe4ea936009",
   "metadata": {},
   "outputs": [],
   "source": [
    "# visualisation\n",
    "# confusion matrix\n",
    "def plot_confusion_matrix(test_y, y_test_pred):\n",
    "    cm = confusion_matrix(test_y, y_test_pred)\n",
    "    \n",
    "    # create a heatmap using seaborn\n",
    "    sns.heatmap(cm, annot=True, fmt='d', cmap='Blues', \n",
    "                xticklabels=['business', 'politics', 'sports'],\n",
    "                yticklabels=['business', 'politics', 'sports'])\n",
    "    \n",
    "    # Set labels and title\n",
    "    plt.ylabel('True Label')\n",
    "    plt.xlabel('Predicted Label')\n",
    "    plt.title('Confusion Matrix')\n",
    "    plt.show()"
   ]
  },
  {
   "cell_type": "code",
   "execution_count": 45,
   "id": "462abace-ddc3-4a91-8cbd-986362f760e9",
   "metadata": {},
   "outputs": [
    {
     "data": {
      "image/png": "[encoded data removed]",
      "text/plain": [
       "<Figure size 640x480 with 2 Axes>"
      ]
     },
     "metadata": {},
     "output_type": "display_data"
    }
   ],
   "source": [
    "plot_confusion_matrix(test_y, y_test_pred)"
   ]
  },
  {
   "cell_type": "markdown",
   "id": "73f9180a-9855-4586-9d5f-fbe6b56b2022",
   "metadata": {},
   "source": [
    "## 1b. Count/Frequency based Document Representation "
   ]
  },
  {
   "cell_type": "code",
   "execution_count": 46,
   "id": "c73a97fa-9cf9-4c7a-9a3e-de194f882c49",
   "metadata": {},
   "outputs": [],
   "source": [
    "# get sparse representations\n",
    "train_x, val_x, test_x, train_y, val_y, test_y = get_data_splits(df, \"count\", use_sparse=False)\n",
    "\n",
    "# concat train and val for predefined validation dataset\n",
    "split_index = [-1]*len(train_x) + [0]*len(val_x)\n",
    "X = np.concatenate((train_x, val_x), axis=0)\n",
    "Y = np.concatenate((train_y, val_y), axis=0)\n",
    "\n",
    "# get sparse representations\n",
    "sparse_X = sparse.csr_matrix(X)\n",
    "sparse_test_x = sparse.csr_matrix(test_x)"
   ]
  },
  {
   "cell_type": "code",
   "execution_count": 47,
   "id": "11452e2a-be0b-4270-8af0-c4fa352bdda8",
   "metadata": {},
   "outputs": [
    {
     "name": "stdout",
     "output_type": "stream",
     "text": [
      "Best Parameters: {'C': 1, 'class_weight': 'balanced', 'max_iter': 100} Best Accuracy on Validation set 0.9887152777777778\n"
     ]
    }
   ],
   "source": [
    "# training and finding the best model\n",
    "model_count = get_best_LR(sparse_X, Y, split_index, param_grid)"
   ]
  },
  {
   "cell_type": "markdown",
   "id": "bc4deae7-895c-4b3c-8bb2-c5a744b38c68",
   "metadata": {},
   "source": [
    "#### Inference on test set"
   ]
  },
  {
   "cell_type": "code",
   "execution_count": 48,
   "id": "37754c9a-72ad-4350-91d8-629c1b4488c1",
   "metadata": {},
   "outputs": [
    {
     "name": "stdout",
     "output_type": "stream",
     "text": [
      "Accuracy: 0.9835069444444444\n",
      "Macro F1 Score: 0.9541470791930237\n",
      "Micro F1 Score: 0.9835069444444444\n"
     ]
    }
   ],
   "source": [
    "# infer using the best model on the test set\n",
    "y_test_pred = model_count.predict(sparse_test_x)\n",
    "\n",
    "# calculate metrics on the test set\n",
    "print_metrics(test_y, y_test_pred)"
   ]
  },
  {
   "cell_type": "code",
   "execution_count": 49,
   "id": "88a31f2f-6fcf-4a64-824e-31abf76243e0",
   "metadata": {},
   "outputs": [
    {
     "data": {
      "image/png": "[encoded data removed]",
      "text/plain": [
       "<Figure size 640x480 with 2 Axes>"
      ]
     },
     "metadata": {},
     "output_type": "display_data"
    }
   ],
   "source": [
    "plot_confusion_matrix(test_y, y_test_pred)"
   ]
  },
  {
   "cell_type": "markdown",
   "id": "63d71379-3e52-4212-94cd-7e46ecb9e28a",
   "metadata": {},
   "source": [
    "## 1c. tf-idf Document Representation "
   ]
  },
  {
   "cell_type": "code",
   "execution_count": 50,
   "id": "6129167d-e831-4261-b92f-7cbea39e6246",
   "metadata": {},
   "outputs": [],
   "source": [
    "# get train/test/validation sets\n",
    "train_x, val_x, test_x, train_y, val_y, test_y = get_data_splits(df, \"tfidf\", use_sparse=False)\n",
    "\n",
    "# concat train and val for predefined validation dataset\n",
    "split_index = [-1]*len(train_x) + [0]*len(val_x)\n",
    "X = np.concatenate((train_x, val_x), axis=0)\n",
    "Y = np.concatenate((train_y, val_y), axis=0)\n",
    "\n",
    "# get sparse representations\n",
    "sparse_X = sparse.csr_matrix(X)\n",
    "sparse_test_x = sparse.csr_matrix(test_x)"
   ]
  },
  {
   "cell_type": "code",
   "execution_count": 51,
   "id": "719c54e8-44dd-42af-a8e4-55f01ead71fc",
   "metadata": {},
   "outputs": [
    {
     "name": "stdout",
     "output_type": "stream",
     "text": [
      "Best Parameters: {'C': 10, 'class_weight': 'balanced', 'max_iter': 100} Best Accuracy on Validation set 0.984375\n"
     ]
    }
   ],
   "source": [
    "# training and finding the best model\n",
    "model_tfidf = get_best_LR(sparse_X, Y, split_index, param_grid)"
   ]
  },
  {
   "cell_type": "markdown",
   "id": "35211172-b814-4b3d-861e-524e92ebfbad",
   "metadata": {},
   "source": [
    "#### Inference on test set"
   ]
  },
  {
   "cell_type": "code",
   "execution_count": 52,
   "id": "715cecac-2ff5-40ed-abe0-4d47731362c4",
   "metadata": {},
   "outputs": [
    {
     "name": "stdout",
     "output_type": "stream",
     "text": [
      "Accuracy: 0.9782986111111112\n",
      "Macro F1 Score: 0.9440749977104897\n",
      "Micro F1 Score: 0.9782986111111112\n"
     ]
    }
   ],
   "source": [
    "# infer using the best model on the test set\n",
    "y_test_pred = model_tfidf.predict(sparse_test_x)\n",
    "\n",
    "# calculate metrics on the test set\n",
    "print_metrics(test_y, y_test_pred)"
   ]
  },
  {
   "cell_type": "code",
   "execution_count": 53,
   "id": "c25537ef-19dc-4494-a347-9371498c5a23",
   "metadata": {},
   "outputs": [
    {
     "data": {
      "image/png": "[encoded data removed]",
      "text/plain": [
       "<Figure size 640x480 with 2 Axes>"
      ]
     },
     "metadata": {},
     "output_type": "display_data"
    }
   ],
   "source": [
    "plot_confusion_matrix(test_y, y_test_pred)"
   ]
  }
 ],
 "metadata": {
  "kernelspec": {
   "display_name": "Python 3 (ipykernel)",
   "language": "python",
   "name": "python3"
  },
  "language_info": {
   "codemirror_mode": {
    "name": "ipython",
    "version": 3
   },
   "file_extension": ".py",
   "mimetype": "text/x-python",
   "name": "python",
   "nbconvert_exporter": "python",
   "pygments_lexer": "ipython3",
   "version": "3.12.5"
  }
 },
 "nbformat": 4,
 "nbformat_minor": 5
}
