{
 "cells": [
  {
   "cell_type": "markdown",
   "id": "0e88fc98-3932-4d0d-89e1-43b7c0ba2020",
   "metadata": {},
   "source": [
    "## BERT\n",
    "\n",
    "Fine-tune the BERT (bert-base-uncased) for text classification and report accuracy, macro f1-score, and micro f1-score. If you are using PyTorch, hugging face transformers is highly recommended for this task. While tokenizing, set the maximum length to 64 and fine-tune for 3 epochs."
   ]
  },
  {
   "cell_type": "code",
   "execution_count": 1,
   "id": "4cb2bbb2-dc23-4053-8c83-19005157b8d9",
   "metadata": {},
   "outputs": [],
   "source": [
    "import numpy as np\n",
    "import pandas as pd\n",
    "import tensorflow as tf\n",
    "\n",
    "import seaborn as sns\n",
    "import matplotlib.pyplot as plt\n",
    "%matplotlib inline\n",
    "\n",
    "from datasets import load_dataset, DatasetDict, Dataset\n",
    "from transformers import AutoTokenizer,TFAutoModelForSequenceClassification\n",
    "from sklearn.metrics import classification_report, confusion_matrix, accuracy_score, f1_score\n",
    "\n",
    "# custom visualisation styling\n",
    "custom = {\"axes.edgecolor\": \"red\", \"grid.linestyle\": \"dashed\", \"grid.color\": \"black\"}\n",
    "sns.set_style(\"darkgrid\", rc=custom)"
   ]
  },
  {
   "cell_type": "code",
   "execution_count": 2,
   "id": "3c59640d-3489-4f69-b90b-ffbe60b5239f",
   "metadata": {},
   "outputs": [
    {
     "name": "stdout",
     "output_type": "stream",
     "text": [
      "(11519, 2)\n"
     ]
    }
   ],
   "source": [
    "# load dataset\n",
    "data = pd.read_csv(\"nyt.csv\")\n",
    "print(data.shape)"
   ]
  },
  {
   "cell_type": "code",
   "execution_count": 3,
   "id": "6b9d8012-d12f-4e76-8aec-1c91f371aa55",
   "metadata": {},
   "outputs": [
    {
     "data": {
      "text/html": [
       "<div>\n",
       "<style scoped>\n",
       "    .dataframe tbody tr th:only-of-type {\n",
       "        vertical-align: middle;\n",
       "    }\n",
       "\n",
       "    .dataframe tbody tr th {\n",
       "        vertical-align: top;\n",
       "    }\n",
       "\n",
       "    .dataframe thead th {\n",
       "        text-align: right;\n",
       "    }\n",
       "</style>\n",
       "<table border=\"1\" class=\"dataframe\">\n",
       "  <thead>\n",
       "    <tr style=\"text-align: right;\">\n",
       "      <th></th>\n",
       "      <th>text</th>\n",
       "      <th>label</th>\n",
       "    </tr>\n",
       "  </thead>\n",
       "  <tbody>\n",
       "    <tr>\n",
       "      <th>0</th>\n",
       "      <td>(reuters) - carlos tevez sealed his move to ju...</td>\n",
       "      <td>sports</td>\n",
       "    </tr>\n",
       "    <tr>\n",
       "      <th>1</th>\n",
       "      <td>if professional pride and strong defiance can ...</td>\n",
       "      <td>sports</td>\n",
       "    </tr>\n",
       "    <tr>\n",
       "      <th>2</th>\n",
       "      <td>palermo, sicily — roberta vinci beat top-seede...</td>\n",
       "      <td>sports</td>\n",
       "    </tr>\n",
       "    <tr>\n",
       "      <th>3</th>\n",
       "      <td>spain's big two soccer teams face a pair of it...</td>\n",
       "      <td>sports</td>\n",
       "    </tr>\n",
       "    <tr>\n",
       "      <th>4</th>\n",
       "      <td>the argentine soccer club san lorenzo complete...</td>\n",
       "      <td>sports</td>\n",
       "    </tr>\n",
       "  </tbody>\n",
       "</table>\n",
       "</div>"
      ],
      "text/plain": [
       "                                                text   label\n",
       "0  (reuters) - carlos tevez sealed his move to ju...  sports\n",
       "1  if professional pride and strong defiance can ...  sports\n",
       "2  palermo, sicily — roberta vinci beat top-seede...  sports\n",
       "3  spain's big two soccer teams face a pair of it...  sports\n",
       "4  the argentine soccer club san lorenzo complete...  sports"
      ]
     },
     "execution_count": 3,
     "metadata": {},
     "output_type": "execute_result"
    }
   ],
   "source": [
    "data.head()"
   ]
  },
  {
   "cell_type": "code",
   "execution_count": 4,
   "id": "d458a92a-6000-4881-b29f-91f6187ca7df",
   "metadata": {},
   "outputs": [
    {
     "name": "stdout",
     "output_type": "stream",
     "text": [
      "label\n",
      "sports      8639\n",
      "politics    1451\n",
      "business    1429\n",
      "Name: count, dtype: int64\n"
     ]
    },
    {
     "data": {
      "text/plain": [
       "<Axes: xlabel='label', ylabel='count'>"
      ]
     },
     "execution_count": 4,
     "metadata": {},
     "output_type": "execute_result"
    },
    {
     "data": {
      "image/png": "[encoded data removed]",
      "text/plain": [
       "<Figure size 500x300 with 1 Axes>"
      ]
     },
     "metadata": {},
     "output_type": "display_data"
    }
   ],
   "source": [
    "# see class distribution - multiclass problem\n",
    "df = data.copy()\n",
    "print(df['label'].value_counts())\n",
    "\n",
    "plt.figure(figsize=(5,3))\n",
    "sns.countplot(data=df, x='label')"
   ]
  },
  {
   "cell_type": "code",
   "execution_count": 5,
   "id": "2612dbab-0859-4d25-ac41-fb61e186a1d5",
   "metadata": {},
   "outputs": [
    {
     "name": "stdout",
     "output_type": "stream",
     "text": [
      "{0: 2.6869605784931188, 1: 2.646220997013554, 2: 0.4444573060153567}\n"
     ]
    }
   ],
   "source": [
    "# classes are imbalanced\n",
    "from sklearn.utils.class_weight import compute_class_weight\n",
    "\n",
    "class_weights = compute_class_weight(class_weight='balanced', classes=np.unique(df['label']), y=df['label'].values)\n",
    "class_weight_dict = {0: class_weights[0], 1: class_weights[1], 2: class_weights[2]}\n",
    "print(class_weight_dict)"
   ]
  },
  {
   "cell_type": "code",
   "execution_count": 6,
   "id": "1b4f565d-fff7-4214-aa89-3920a59fdb22",
   "metadata": {},
   "outputs": [
    {
     "name": "stdout",
     "output_type": "stream",
     "text": [
      "{0: 'business', 1: 'politics', 2: 'sports'}\n"
     ]
    }
   ],
   "source": [
    "# mapping of label to codes\n",
    "mapped_classes = df.label.astype('category')\n",
    "hm_class = dict(enumerate(mapped_classes.cat.categories))\n",
    "print(hm_class)\n",
    "\n",
    "df['label'] = df.label.astype('category').cat.codes\n",
    "\n",
    "# 1 hot encoding\n",
    "one_hot = pd.get_dummies(df['label'])\n",
    "df['label'] = one_hot.apply(lambda row: row.values, axis=1)"
   ]
  },
  {
   "cell_type": "code",
   "execution_count": 7,
   "id": "66dddeab-028a-4e92-9374-241ec2501cc4",
   "metadata": {},
   "outputs": [],
   "source": [
    "# Note: in case of Bert, removing the stopwords might actually worsen the metrics\n",
    "df['text'] = df['text'].str.replace(r'[^\\w\\s]', ' ', regex=True)\n",
    "df['text'] = df['text'].str.replace(r'[\\{\\}\\[\\]\\(\\)]', '', regex=True)"
   ]
  },
  {
   "cell_type": "code",
   "execution_count": 8,
   "id": "7a86b08d-f248-4c92-8ddb-859cbbd963e4",
   "metadata": {},
   "outputs": [
    {
     "data": {
      "text/plain": [
       "Dataset({\n",
       "    features: ['text', 'label'],\n",
       "    num_rows: 11519\n",
       "})"
      ]
     },
     "execution_count": 8,
     "metadata": {},
     "output_type": "execute_result"
    }
   ],
   "source": [
    "# convert to huggingface dataset format\n",
    "ds = Dataset.from_pandas(df)\n",
    "ds"
   ]
  },
  {
   "cell_type": "code",
   "execution_count": 9,
   "id": "ae2dbcd3-ff00-4f79-bf32-ae5cf2c3f97a",
   "metadata": {},
   "outputs": [
    {
     "data": {
      "text/plain": [
       "DatasetDict({\n",
       "    train: Dataset({\n",
       "        features: ['text', 'label'],\n",
       "        num_rows: 9215\n",
       "    })\n",
       "    test: Dataset({\n",
       "        features: ['text', 'label'],\n",
       "        num_rows: 1152\n",
       "    })\n",
       "    valid: Dataset({\n",
       "        features: ['text', 'label'],\n",
       "        num_rows: 1152\n",
       "    })\n",
       "})"
      ]
     },
     "execution_count": 9,
     "metadata": {},
     "output_type": "execute_result"
    }
   ],
   "source": [
    "# train test validation splits\n",
    "train_test_splits = ds.train_test_split(test_size=0.2)\n",
    "test_validation_splits = train_test_splits['test'].train_test_split(test_size=0.5)\n",
    "\n",
    "# collate all in a dict\n",
    "tweet_dataset = DatasetDict({\n",
    "    'train': train_test_splits['train'],\n",
    "    'test': test_validation_splits['test'],\n",
    "    'valid': test_validation_splits['train']\n",
    "})\n",
    "\n",
    "tweet_dataset"
   ]
  },
  {
   "cell_type": "markdown",
   "id": "ec537596-8961-4ae8-bfff-63e750efcf01",
   "metadata": {},
   "source": [
    "### Tokenizer"
   ]
  },
  {
   "cell_type": "code",
   "execution_count": 10,
   "id": "9bc0d85a-0b65-44e7-b860-333f72be14b8",
   "metadata": {},
   "outputs": [],
   "source": [
    "# loading a pre-trained BERT tokenizer that corresponds to the \"bert-base-uncased\" model.\n",
    "tokenizer = AutoTokenizer.from_pretrained(\"bert-base-uncased\")"
   ]
  },
  {
   "cell_type": "code",
   "execution_count": 11,
   "id": "22cfb4e2-9889-4a6c-807c-f2c07635434f",
   "metadata": {},
   "outputs": [
    {
     "data": {
      "application/vnd.jupyter.widget-view+json": {
       "model_id": "2431dc8f7ccf42f5a1edb8e0edd7d1e2",
       "version_major": 2,
       "version_minor": 0
      },
      "text/plain": [
       "Map:   0%|          | 0/9215 [00:00<?, ? examples/s]"
      ]
     },
     "metadata": {},
     "output_type": "display_data"
    },
    {
     "data": {
      "application/vnd.jupyter.widget-view+json": {
       "model_id": "b2588fed6b4447008c20561be6bd1c10",
       "version_major": 2,
       "version_minor": 0
      },
      "text/plain": [
       "Map:   0%|          | 0/1152 [00:00<?, ? examples/s]"
      ]
     },
     "metadata": {},
     "output_type": "display_data"
    },
    {
     "data": {
      "application/vnd.jupyter.widget-view+json": {
       "model_id": "4dc92ede63d54205a00a18a640bfe7cc",
       "version_major": 2,
       "version_minor": 0
      },
      "text/plain": [
       "Map:   0%|          | 0/1152 [00:00<?, ? examples/s]"
      ]
     },
     "metadata": {},
     "output_type": "display_data"
    }
   ],
   "source": [
    "# preprocess\n",
    "def preprocess(ds):\n",
    "    return tokenizer(\n",
    "        ds['text'], \n",
    "        padding='max_length', \n",
    "        truncation=True, \n",
    "        max_length=64\n",
    "    )\n",
    "\n",
    "# When batched=True, the preprocess function will receive a batch of samples as input instead of a single sample. Faster.\n",
    "tokenized_dataset = tweet_dataset.map(preprocess, batched=True, batch_size=32, remove_columns=[\"text\"])\n",
    "\n",
    "train_dataset = tokenized_dataset['train'].with_format('tensorflow')\n",
    "eval_dataset = tokenized_dataset['valid'].with_format('tensorflow')\n",
    "test_dataset = tokenized_dataset['test'].with_format('tensorflow')"
   ]
  },
  {
   "cell_type": "code",
   "execution_count": 12,
   "id": "d3b798f7-b0d7-47e2-bf11-81824aa73f47",
   "metadata": {},
   "outputs": [],
   "source": [
    "# batching\n",
    "batch_size=16\n",
    "\n",
    "def preprocess_batch_dataset(dataset):\n",
    "    # When you pass in a tensor (or a tuple of tensors), from_tensor_slices treats each entry (or \"slice\") in the tensor as a separate element in the dataset.\n",
    "    dataset = tf.data.Dataset.from_tensor_slices((\n",
    "        {x: dataset[x] for x in tokenizer.model_input_names}, \n",
    "        dataset[\"label\"]\n",
    "        # tf.keras.utils.to_categorical(dataset[\"label\"], num_classes=3)\n",
    "    ))\n",
    "\n",
    "    # shuffle and create batches\n",
    "    # buffer_size=1000 specifies the number of elements from which to sample when shuffling\n",
    "    dataset = dataset.shuffle(buffer_size=len(dataset)).batch(batch_size)\n",
    "    return dataset\n",
    "\n",
    "# batch dataset\n",
    "train_dataset_bt, eval_dataset_bt, test_dataset_bt = [preprocess_batch_dataset(ds) for ds in [train_dataset, eval_dataset, test_dataset]]"
   ]
  },
  {
   "cell_type": "code",
   "execution_count": 13,
   "id": "d27edfd9-099d-4905-9dcb-1136c6c506b6",
   "metadata": {},
   "outputs": [
    {
     "name": "stdout",
     "output_type": "stream",
     "text": [
      "(16, 64)\n"
     ]
    }
   ],
   "source": [
    "# check if batch created\n",
    "first_batch = next(iter(train_dataset_bt.take(1)))\n",
    "print(first_batch[0]['input_ids'].shape)"
   ]
  },
  {
   "cell_type": "code",
   "execution_count": 14,
   "id": "10f72370-536e-4f58-ac48-6507b33d0daf",
   "metadata": {},
   "outputs": [
    {
     "name": "stderr",
     "output_type": "stream",
     "text": [
      "2024-10-17 03:05:34.587556: I tensorflow/core/framework/local_rendezvous.cc:404] Local rendezvous is aborting with status: OUT_OF_RANGE: End of sequence\n"
     ]
    }
   ],
   "source": [
    "# save ground truth y in test\n",
    "labels_list = []\n",
    "for batch in test_dataset_bt:\n",
    "    labels_list.extend(batch[1].numpy())\n",
    "\n",
    "test_truth = np.argmax(labels_list, axis=1)"
   ]
  },
  {
   "cell_type": "code",
   "execution_count": 15,
   "id": "6048e9ca-2570-48f6-8bb9-0a44da72f488",
   "metadata": {},
   "outputs": [
    {
     "data": {
      "text/plain": [
       "Counter({2: 864, 0: 146, 1: 142})"
      ]
     },
     "execution_count": 15,
     "metadata": {},
     "output_type": "execute_result"
    }
   ],
   "source": [
    "from collections import Counter\n",
    "Counter(test_truth)"
   ]
  },
  {
   "cell_type": "markdown",
   "id": "8b5a666d-ac7f-4c16-b5b4-e97cd8a0a6f3",
   "metadata": {},
   "source": [
    "### Define Model"
   ]
  },
  {
   "cell_type": "code",
   "execution_count": 16,
   "id": "754dfc9c-c325-4c98-a665-8ecb87271bf1",
   "metadata": {},
   "outputs": [
    {
     "name": "stderr",
     "output_type": "stream",
     "text": [
      "All PyTorch model weights were used when initializing TFBertForSequenceClassification.\n",
      "\n",
      "Some weights or buffers of the TF 2.0 model TFBertForSequenceClassification were not initialized from the PyTorch model and are newly initialized: ['classifier.weight', 'classifier.bias']\n",
      "You should probably TRAIN this model on a down-stream task to be able to use it for predictions and inference.\n"
     ]
    }
   ],
   "source": [
    "# load a pre-trained tf model\n",
    "# hf trainer class - Trainer is primarily designed for PyTorch models, not TensorFlow models.\n",
    "model = TFAutoModelForSequenceClassification.from_pretrained(\n",
    "    \"bert-base-uncased\",\n",
    "    problem_type=\"multi_label_classification\",\n",
    "    num_labels=3,\n",
    "    id2label=hm_class,\n",
    "    label2id={v: k for k, v in hm_class.items()}\n",
    ")"
   ]
  },
  {
   "cell_type": "markdown",
   "id": "46a6b977-b0b7-4358-be15-ab1a9176ddc3",
   "metadata": {},
   "source": [
    "### Training"
   ]
  },
  {
   "cell_type": "code",
   "execution_count": 17,
   "id": "6a084df1-a02f-4eb6-80b1-5f1582a23161",
   "metadata": {},
   "outputs": [],
   "source": [
    "def lr_scheduler(epoch):\n",
    "    epoch_tensor = tf.convert_to_tensor(epoch, dtype=tf.float32)\n",
    "    if epoch > 1:\n",
    "        return 0.00005 * tf.math.exp(-epoch_tensor)\n",
    "    else: \n",
    "        return 0.00005"
   ]
  },
  {
   "cell_type": "code",
   "execution_count": 18,
   "id": "626cf95c-038a-4579-8269-4804ce902df2",
   "metadata": {},
   "outputs": [],
   "source": [
    "# metrics\n",
    "def f1_micro(y_true, y_pred):\n",
    "    y_true_indices = tf.argmax(y_true, axis=-1)\n",
    "    y_pred_indices = tf.argmax(y_pred, axis=-1)\n",
    "    return f1_score(y_true_indices.numpy(), y_pred_indices.numpy(), average='micro')\n",
    "\n",
    "def f1_macro(y_true, y_pred):\n",
    "    y_true_indices = tf.argmax(y_true, axis=-1)\n",
    "    y_pred_indices = tf.argmax(y_pred, axis=-1)\n",
    "    return f1_score(y_true_indices.numpy(), y_pred_indices.numpy(), average='macro')\n",
    "\n",
    "# Wrapping them in a TensorFlow function for compatibility\n",
    "@tf.function\n",
    "def f1_micro_metric(y_true, y_pred):\n",
    "    return tf.py_function(f1_micro, [y_true, y_pred], tf.double)\n",
    "\n",
    "@tf.function\n",
    "def f1_macro_metric(y_true, y_pred):\n",
    "    return tf.py_function(f1_macro, [y_true, y_pred], tf.double)"
   ]
  },
  {
   "cell_type": "code",
   "execution_count": 19,
   "id": "e8081fd3-796a-47ab-93ff-97b86d8ba09b",
   "metadata": {},
   "outputs": [
    {
     "name": "stderr",
     "output_type": "stream",
     "text": [
      "WARNING:absl:At this time, the v2.11+ optimizer `tf.keras.optimizers.Adam` runs slowly on M1/M2 Macs, please use the legacy TF-Keras optimizer instead, located at `tf.keras.optimizers.legacy.Adam`.\n"
     ]
    },
    {
     "name": "stdout",
     "output_type": "stream",
     "text": [
      "Epoch 1/3\n",
      "576/576 [==============================] - 824s 1s/step - loss: 0.1495 - categorical_accuracy: 0.9485 - f1_micro_metric: 0.9485 - f1_macro_metric: 0.8554 - val_loss: 0.0805 - val_categorical_accuracy: 0.9714 - val_f1_micro_metric: 0.9714 - val_f1_macro_metric: 0.9091 - lr: 5.0000e-05\n",
      "Epoch 2/3\n",
      "576/576 [==============================] - 807s 1s/step - loss: 0.0514 - categorical_accuracy: 0.9844 - f1_micro_metric: 0.9844 - f1_macro_metric: 0.9544 - val_loss: 0.0761 - val_categorical_accuracy: 0.9748 - val_f1_micro_metric: 0.9748 - val_f1_macro_metric: 0.9418 - lr: 5.0000e-05\n",
      "Epoch 3/3\n",
      "576/576 [==============================] - 806s 1s/step - loss: 0.0193 - categorical_accuracy: 0.9945 - f1_micro_metric: 0.9945 - f1_macro_metric: 0.9853 - val_loss: 0.0757 - val_categorical_accuracy: 0.9757 - val_f1_micro_metric: 0.9757 - val_f1_macro_metric: 0.9452 - lr: 6.7668e-06\n"
     ]
    }
   ],
   "source": [
    "model.compile(\n",
    "    optimizer=tf.keras.optimizers.Adam(learning_rate=5e-5),\n",
    "    loss=tf.keras.losses.CategoricalCrossentropy(from_logits=True),\n",
    "    metrics=[tf.metrics.CategoricalAccuracy(), f1_micro_metric, f1_macro_metric]\n",
    ")\n",
    "\n",
    "history = model.fit(\n",
    "    train_dataset_bt,\n",
    "    epochs=3,\n",
    "    validation_data=eval_dataset_bt,\n",
    "    # class_weight=class_weight_dict,\n",
    "    callbacks=[tf.keras.callbacks.LearningRateScheduler(lr_scheduler)],\n",
    "    verbose=True\n",
    ")"
   ]
  },
  {
   "cell_type": "code",
   "execution_count": 20,
   "id": "38667f6b-603b-461b-8d79-94721672bab2",
   "metadata": {},
   "outputs": [
    {
     "data": {
      "image/png": "[encoded data removed]",
      "text/plain": [
       "<Figure size 700x500 with 4 Axes>"
      ]
     },
     "metadata": {},
     "output_type": "display_data"
    }
   ],
   "source": [
    "# visualisation\n",
    "def plot_metric(ax, x, y_train, y_val, title, ylabel, xlabel):\n",
    "    ax.plot(x, y_train, label='Train')\n",
    "    ax.plot(x, y_val, label='Validation')\n",
    "    ax.set_title(title)\n",
    "    ax.set_ylabel(ylabel)\n",
    "    ax.set_xlabel(xlabel)\n",
    "    ax.legend(loc='upper left')\n",
    "\n",
    "def plot_history(history):\n",
    "    # 2x2 grid\n",
    "    fig, axs = plt.subplots(2, 2, figsize=(7, 5))  # Adjust figsize for better visibility\n",
    "\n",
    "    # Epochs\n",
    "    epochs = range(1, len(history.history['loss']) + 1)\n",
    "\n",
    "    # Loss\n",
    "    plot_metric(axs[0, 0], epochs, history.history['loss'], history.history['val_loss'], \n",
    "                'Model Loss', 'Loss', 'Epoch')\n",
    "    # Accuracy\n",
    "    plot_metric(axs[0, 1], epochs, history.history['categorical_accuracy'], history.history['val_categorical_accuracy'], \n",
    "                'Accuracy', 'Accuracy', 'Epoch')\n",
    "\n",
    "    # Micro F1 Score\n",
    "    plot_metric(axs[1, 0], epochs, history.history['f1_micro_metric'], history.history['val_f1_micro_metric'], \n",
    "                'Micro F1 Score', 'Micro F1 Score', 'Epoch')\n",
    "\n",
    "    # Macro F1 Score\n",
    "    plot_metric(axs[1, 1], epochs, history.history['f1_macro_metric'], history.history['val_f1_macro_metric'], \n",
    "                'Macro F1 Score', 'Macro F1 Score', 'Epoch')\n",
    "\n",
    "    # Adjust layout\n",
    "    plt.tight_layout()\n",
    "    plt.show()\n",
    "\n",
    "plot_history(history)"
   ]
  },
  {
   "cell_type": "code",
   "execution_count": 22,
   "id": "6812ef9e-3510-41a4-a6c8-f130add5f281",
   "metadata": {},
   "outputs": [
    {
     "name": "stdout",
     "output_type": "stream",
     "text": [
      "72/72 - 32s - loss: 0.0859 - categorical_accuracy: 0.9757 - f1_micro_metric: 0.9757 - f1_macro_metric: 0.9336 - 32s/epoch - 447ms/step\n",
      "Accuracy: 0.9756944179534912\n",
      "Micro F1 Score: 0.9756944179534912\n",
      "Macro F1 Score: 0.9336167573928833\n"
     ]
    }
   ],
   "source": [
    "# inference on test set\n",
    "test_loss, test_acc, test_f1_micro, test_f1_macro = model.evaluate(test_dataset_bt, verbose=2)\n",
    "\n",
    "print(\"Accuracy:\", test_acc)\n",
    "print(\"Micro F1 Score:\", test_f1_micro)\n",
    "print(\"Macro F1 Score:\", test_f1_macro)"
   ]
  }
 ],
 "metadata": {
  "kernelspec": {
   "display_name": "Python 3 (ipykernel)",
   "language": "python",
   "name": "python3"
  },
  "language_info": {
   "codemirror_mode": {
    "name": "ipython",
    "version": 3
   },
   "file_extension": ".py",
   "mimetype": "text/x-python",
   "name": "python",
   "nbconvert_exporter": "python",
   "pygments_lexer": "ipython3",
   "version": "3.12.5"
  }
 },
 "nbformat": 4,
 "nbformat_minor": 5
}
