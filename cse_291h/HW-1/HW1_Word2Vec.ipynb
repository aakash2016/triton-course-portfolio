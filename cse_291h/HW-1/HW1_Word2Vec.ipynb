{
 "cells": [
  {
   "cell_type": "markdown",
   "id": "94789879-4e5c-4d57-b661-467e986153a6",
   "metadata": {},
   "source": [
    "# Word2Vec model"
   ]
  },
  {
   "cell_type": "markdown",
   "id": "cf7b7f52-d412-4380-8bee-03fafe17e5c7",
   "metadata": {
    "jp-MarkdownHeadingCollapsed": true
   },
   "source": [
    "**(a) Train a text classifier using the following document representation techniques using 100-dimensional word vectors and report accuracy, macro-f1 score, and micro-f1 score on the test set. Compare and analyze their performance.**\n",
    "\n",
    "1. **Using publicly available pre-trained GloVe embeddings** as word vectors, a document vector is represented as an average of word vectors of its constituent words.\n",
    "2. **Train Word2Vec** (e.g., use the `gensim` package) on AGNews text data and use them as word vectors to compute document vectors by averaging word vectors of its constituent words.\n",
    "3. **Train Word2Vec on NYT text data** and use them as word vectors to compute document vectors by averaging word vectors of its constituent words.\n",
    "\n",
    "\n",
    "**(b) What are the disadvantages of averaging word vectors for the document representation? Describe an idea to overcome this.**\n",
    "\n",
    "The document vectors should be formed using word vectors.  \n",
    "*Note: This is an open-ended question. Feel free to propose new ideas.*\n"
   ]
  },
  {
   "cell_type": "code",
   "execution_count": 3,
   "id": "e3f5f457-ec6e-4439-9ee1-a6ecd34c0b33",
   "metadata": {},
   "outputs": [],
   "source": [
    "# import necessary library \n",
    "import re\n",
    "import gensim\n",
    "import warnings\n",
    "\n",
    "import numpy as np\n",
    "import pandas as pd\n",
    "\n",
    "import seaborn as sns\n",
    "import matplotlib.pyplot as plt\n",
    "%matplotlib inline\n",
    "\n",
    "from tqdm import tqdm\n",
    "from pprint import pprint\n",
    "from scipy import sparse\n",
    "from collections import defaultdict, Counter\n",
    "\n",
    "from gensim.models import KeyedVectors\n",
    "from gensim.test.utils import get_tmpfile\n",
    "from gensim.scripts.glove2word2vec import glove2word2vec\n",
    "\n",
    "from sklearn.linear_model import LogisticRegression\n",
    "from sklearn.model_selection import train_test_split, GridSearchCV, PredefinedSplit\n",
    "from sklearn.metrics import classification_report, confusion_matrix, accuracy_score, f1_score\n",
    "\n",
    "# custom visualisation styling\n",
    "custom = {\"axes.edgecolor\": \"red\", \"grid.linestyle\": \"dashed\", \"grid.color\": \"black\"}\n",
    "sns.set_style(\"darkgrid\", rc=custom)\n",
    "\n",
    "warnings.simplefilter(\"ignore\")"
   ]
  },
  {
   "cell_type": "code",
   "execution_count": 4,
   "id": "bd65abc5-1866-4b15-bfab-f218f16b9507",
   "metadata": {},
   "outputs": [
    {
     "name": "stdout",
     "output_type": "stream",
     "text": [
      "(11519, 2)\n"
     ]
    }
   ],
   "source": [
    "# load NYT dataset\n",
    "data = pd.read_csv(\"nyt.csv\")\n",
    "print(data.shape)"
   ]
  },
  {
   "cell_type": "code",
   "execution_count": 5,
   "id": "47b664c6-0eb2-464a-a860-2d9a16b6b30d",
   "metadata": {},
   "outputs": [
    {
     "name": "stdout",
     "output_type": "stream",
     "text": [
      "Index(['text', 'label'], dtype='object')\n"
     ]
    },
    {
     "data": {
      "text/plain": [
       "<Axes: xlabel='label', ylabel='count'>"
      ]
     },
     "execution_count": 5,
     "metadata": {},
     "output_type": "execute_result"
    },
    {
     "data": {
      "image/png": "[encoded data removed]",
      "text/plain": [
       "<Figure size 500x300 with 1 Axes>"
      ]
     },
     "metadata": {},
     "output_type": "display_data"
    }
   ],
   "source": [
    "# check available columns\n",
    "df = data.copy()\n",
    "print(df.columns)\n",
    "\n",
    "plt.figure(figsize=(5,3))\n",
    "sns.countplot(data=df, x='label')"
   ]
  },
  {
   "cell_type": "code",
   "execution_count": 4,
   "id": "96bd4156-dbed-49d5-aadd-2b50415e691e",
   "metadata": {},
   "outputs": [
    {
     "name": "stdout",
     "output_type": "stream",
     "text": [
      "{0: 'business', 1: 'politics', 2: 'sports'}\n"
     ]
    }
   ],
   "source": [
    "# convert the target variable data type from string to numeric\n",
    "mapped_classes = df.label.astype('category')\n",
    "hm_class = dict(enumerate(mapped_classes.cat.categories))\n",
    "print(hm_class)\n",
    "\n",
    "df['label'] = df.label.astype('category').cat.codes"
   ]
  },
  {
   "cell_type": "markdown",
   "id": "5ddda3ab-b9f2-4fe5-8a39-6d31940cc6cd",
   "metadata": {},
   "source": [
    "## a1. Using GloVe Embeddings"
   ]
  },
  {
   "cell_type": "code",
   "execution_count": 5,
   "id": "f6b223e9-68a0-42a3-8878-dbec24aca942",
   "metadata": {},
   "outputs": [],
   "source": [
    "# gloVe file path containing pre-trained word vectors\n",
    "glove_file = '../pretrained-models/glove.6B/glove.6B.100d.txt'\n",
    "\n",
    "# temporary file path to store the converted Word2Vec format vectors\n",
    "tmp_file = get_tmpfile(\"test_word2vec.txt\")\n",
    "\n",
    "# convert the gloVe file to word2vec format and save it to the temporary file\n",
    "_ = glove2word2vec(glove_file, tmp_file)\n",
    "model = KeyedVectors.load_word2vec_format(tmp_file)"
   ]
  },
  {
   "cell_type": "code",
   "execution_count": 6,
   "id": "66c4d4e1-53fd-4d6e-8319-4a43e2bf4ecd",
   "metadata": {},
   "outputs": [
    {
     "name": "stdout",
     "output_type": "stream",
     "text": [
      "100 \n",
      " [-0.34378   -0.13502   -0.43921    0.3171     0.45931    1.4118\n",
      "  0.53641    1.072     -0.19217   -0.19073   -0.26035   -0.16939\n",
      "  0.11266   -0.43995    0.15545    1.3412    -0.34172    0.94433\n",
      "  0.062561   0.63704    0.5084    -0.4696     0.10751   -0.21524\n",
      "  0.50907   -0.17371    0.94811    0.4571     0.40394   -0.12882\n",
      "  0.50923   -0.058139  -0.55692   -0.51644    0.56536   -0.28991\n",
      " -0.081733  -0.1865     0.67905   -0.29877   -0.17778    0.42206\n",
      " -0.4408     0.2316    -0.95221    0.22149   -0.62444   -0.14468\n",
      " -0.37559   -0.4516     1.1225    -0.44304   -0.17111    0.058563\n",
      "  0.44505   -1.2974     0.54388    0.49319    1.1714    -0.20397\n",
      "  0.18537    0.11079    0.011758   0.33083    1.4132    -0.15832\n",
      "  0.52176    0.050126   0.8741     0.16155   -0.99235   -0.034789\n",
      "  0.43111    0.30439   -0.0060538 -0.10579    0.13443   -0.47229\n",
      " -1.179     -0.025391   0.97781    0.18939   -0.73967   -0.2017\n",
      " -0.84043   -0.017837   0.64232   -0.65417   -0.64107    0.27953\n",
      " -0.82348    1.0642     0.48362    0.066701  -0.26653    0.099707\n",
      "  0.2748    -0.20851   -0.26602    0.058957 ]\n"
     ]
    }
   ],
   "source": [
    "# check embeddings of a random word\n",
    "random_vec = model['random']\n",
    "print(len(random_vec), '\\n', random_vec)"
   ]
  },
  {
   "cell_type": "markdown",
   "id": "d76f1993-4cfa-4234-909d-7ec8bac3929e",
   "metadata": {},
   "source": [
    "### Preprocessing"
   ]
  },
  {
   "cell_type": "code",
   "execution_count": 7,
   "id": "617b375f-d610-4c04-a994-d6e3438a0e7d",
   "metadata": {},
   "outputs": [],
   "source": [
    "# required libraries from nltk for preprocessing\n",
    "from nltk.corpus import stopwords\n",
    "from nltk.stem import PorterStemmer \n",
    "from nltk.tokenize import word_tokenize, sent_tokenize\n",
    "\n",
    "ps = PorterStemmer()\n",
    "stop = set(stopwords.words('english'))"
   ]
  },
  {
   "cell_type": "code",
   "execution_count": 8,
   "id": "3da800c2-2e83-4dda-b946-8046e9cbaefa",
   "metadata": {},
   "outputs": [],
   "source": [
    "# common preprocessing function\n",
    "def clean_text_and_tokenise(doc):\n",
    "    # remove non-alpha numeric characters and strip off braces\n",
    "    doc = re.sub(r'[^\\w\\s]', ' ', doc)\n",
    "    doc = re.sub(r'[\\{\\}\\[\\]\\(\\)]', '', doc)\n",
    "    \n",
    "    # remove stopwords and apply stemming\n",
    "    tokens = doc.lower().split(\" \")\n",
    "    tokens = [ps.stem(word) for word in tokens if word not in stop and 0 < len(word) < 16]\n",
    "    return tokens"
   ]
  },
  {
   "cell_type": "code",
   "execution_count": 9,
   "id": "e01ea4cb-a55c-429d-a83d-538483027f20",
   "metadata": {},
   "outputs": [],
   "source": [
    "# helper functions - used from Prof. Jingbo's notebook\n",
    "def get_avg_word_vector(doc, model):\n",
    "    vecs = []\n",
    "    doc_tokens = clean_text_and_tokenise(doc)\n",
    "    \n",
    "    for token in doc_tokens:\n",
    "        try:\n",
    "            vecs.append(model[token])\n",
    "        except KeyError:\n",
    "            pass\n",
    "    return list(np.mean(vecs, axis=0))"
   ]
  },
  {
   "cell_type": "code",
   "execution_count": 10,
   "id": "ce3c311a-cd07-4f52-8307-e55992f2312f",
   "metadata": {},
   "outputs": [],
   "source": [
    "# get average vector embeddings for each doc in dataset\n",
    "df[\"glove_vector\"] = df['text'].apply(lambda x: get_avg_word_vector(x, model))"
   ]
  },
  {
   "cell_type": "markdown",
   "id": "7bec646e-4bba-4e96-85d9-f7de0fa02f02",
   "metadata": {},
   "source": [
    "### Modeling"
   ]
  },
  {
   "cell_type": "markdown",
   "id": "26385a92-d71b-4bfa-ba3f-e10c8728d642",
   "metadata": {},
   "source": [
    "#### Train-Test-Validation splits"
   ]
  },
  {
   "cell_type": "code",
   "execution_count": 11,
   "id": "34545b4e-1bf3-404e-a6e7-df8718008a50",
   "metadata": {},
   "outputs": [],
   "source": [
    "# split training data into train(10%) and validation(10%)\n",
    "train_ratio = 0.8\n",
    "test_ratio = 0.1\n",
    "validation_ratio = 0.1\n",
    "\n",
    "def get_data_splits(df, col):\n",
    "    # target\n",
    "    Y = df[\"label\"]\n",
    "    df = df.drop(['label'], axis=1)\n",
    "\n",
    "    # train test splits\n",
    "    train_x, val_x, train_y, val_y = train_test_split(list(df[col]), Y, test_size=1-train_ratio, random_state=42)\n",
    "    val_x, test_x, val_y, test_y = train_test_split(\n",
    "        val_x, \n",
    "        val_y, \n",
    "        test_size=validation_ratio/(test_ratio + validation_ratio), \n",
    "        random_state=42\n",
    "    )\n",
    "        \n",
    "    return train_x, val_x, test_x, train_y, val_y, test_y"
   ]
  },
  {
   "cell_type": "code",
   "execution_count": 12,
   "id": "9d2baec6-b680-4c31-93b3-53d7e60417db",
   "metadata": {},
   "outputs": [
    {
     "name": "stdout",
     "output_type": "stream",
     "text": [
      "train_data_size: 79.9983%, validation_data_size: 10.0009%, test_data_size: 10.0009%\n"
     ]
    }
   ],
   "source": [
    "# get splits across dataset\n",
    "train_x, val_x, test_x, train_y, val_y, test_y = get_data_splits(df, col=\"glove_vector\")\n",
    "\n",
    "print(\n",
    "    \"train_data_size: {}%, validation_data_size: {}%, test_data_size: {}%\".format(\n",
    "    round(100 * len(train_x)/len(df), 4), \n",
    "    round(100 * len(val_x)/len(df), 4), \n",
    "    round(100 * len(test_x)/len(df), 4))\n",
    ")\n",
    "\n",
    "# concat train and val for predefined validation dataset\n",
    "split_index = [-1]*len(train_x) + [0]*len(val_x)\n",
    "X = np.concatenate((train_x, val_x), axis=0)\n",
    "Y = np.concatenate((train_y, val_y), axis=0)"
   ]
  },
  {
   "cell_type": "markdown",
   "id": "6f72338f-aefe-495f-b260-134cb6066e48",
   "metadata": {},
   "source": [
    "### Training"
   ]
  },
  {
   "cell_type": "code",
   "execution_count": 13,
   "id": "cce8ddd8-7213-4ef9-b6f5-e50a56777c7e",
   "metadata": {},
   "outputs": [],
   "source": [
    "# logistic regression model using \"one-vs-rest\" strategy and Grid Search cross validation\n",
    "# we have a predefined validation dataset\n",
    "def get_best_LR(X, Y, split_index, param_grid):\n",
    "    pds = PredefinedSplit(split_index)\n",
    "    \n",
    "    # hyperparameter tuning using grid search\n",
    "    grid_search = GridSearchCV(LogisticRegression(), param_grid, cv=pds, scoring='accuracy')\n",
    "    grid_search.fit(X, Y)\n",
    "    \n",
    "    best_model = grid_search.best_estimator_\n",
    "    best_params = grid_search.best_params_\n",
    "    best_score = grid_search.best_score_\n",
    "\n",
    "    print(\"Best Parameters:\", best_params, \"Best Accuracy on Validation set\", best_score)\n",
    "    return best_model"
   ]
  },
  {
   "cell_type": "code",
   "execution_count": 14,
   "id": "5d12f1ce-0694-40ce-b2bb-7b95a7642d52",
   "metadata": {},
   "outputs": [
    {
     "name": "stdout",
     "output_type": "stream",
     "text": [
      "Best Parameters: {'C': 1, 'class_weight': None, 'max_iter': 100, 'penalty': 'l2'} Best Accuracy on Validation set 0.9817708333333334\n"
     ]
    }
   ],
   "source": [
    "# hyperparameter space\n",
    "param_grid = {\n",
    "    'C': [0.001, 0.1, 1, 10, 100], # Regularization strength\n",
    "    'max_iter': [100, 200, 500],  # Maximum iterations\n",
    "    'penalty': ['l1', 'l2'], # Regularization\n",
    "    'class_weight': [None, 'balanced']  # To handle class imbalance\n",
    "}\n",
    "\n",
    "model_glove = get_best_LR(X, Y, split_index, param_grid)"
   ]
  },
  {
   "cell_type": "markdown",
   "id": "7dcb8804-1da6-45ac-b43b-580b0d80369b",
   "metadata": {},
   "source": [
    "#### Inference on test data"
   ]
  },
  {
   "cell_type": "code",
   "execution_count": 15,
   "id": "f0c3ebdd-9719-409e-b3ba-596dc4e5f336",
   "metadata": {},
   "outputs": [],
   "source": [
    "def print_metrics(y, y_pred):\n",
    "    print(\"Accuracy:\", accuracy_score(y, y_pred))\n",
    "    print(\"Macro F1 Score:\", f1_score(y, y_pred, average='macro'))\n",
    "    print(\"Micro F1 Score:\", f1_score(y, y_pred, average='micro'))"
   ]
  },
  {
   "cell_type": "code",
   "execution_count": 16,
   "id": "1711742d-e8bd-4e26-90ee-fb54079aa4e6",
   "metadata": {},
   "outputs": [
    {
     "name": "stdout",
     "output_type": "stream",
     "text": [
      "Accuracy: 0.9730902777777778\n",
      "Macro F1 Score: 0.928047554460982\n",
      "Micro F1 Score: 0.9730902777777778\n"
     ]
    }
   ],
   "source": [
    "# infer using the best model on the test set\n",
    "y_test_pred = model_glove.predict(test_x)\n",
    "\n",
    "# calculate metrics on the test set\n",
    "print_metrics(test_y, y_test_pred)"
   ]
  },
  {
   "cell_type": "code",
   "execution_count": 17,
   "id": "10d16bc0-59ef-40c5-8a50-99e1a742bf1c",
   "metadata": {},
   "outputs": [],
   "source": [
    "# visualisation\n",
    "# confusion matrix\n",
    "def plot_confusion_matrix(test_y, y_test_pred):\n",
    "    cm = confusion_matrix(test_y, y_test_pred)\n",
    "    \n",
    "    # create a heatmap using seaborn\n",
    "    sns.heatmap(cm, annot=True, fmt='d', cmap='Blues', \n",
    "                xticklabels=['business', 'politics', 'sports'],\n",
    "                yticklabels=['business', 'politics', 'sports'])\n",
    "    \n",
    "    # Set labels and title\n",
    "    plt.ylabel('True Label')\n",
    "    plt.xlabel('Predicted Label')\n",
    "    plt.title('Confusion Matrix')\n",
    "    plt.show()"
   ]
  },
  {
   "cell_type": "code",
   "execution_count": 18,
   "id": "1c99b204-f7d3-4702-a607-42cc831a0196",
   "metadata": {},
   "outputs": [
    {
     "data": {
      "image/png": "[encoded data removed]",
      "text/plain": [
       "<Figure size 640x480 with 2 Axes>"
      ]
     },
     "metadata": {},
     "output_type": "display_data"
    }
   ],
   "source": [
    "plot_confusion_matrix(test_y, y_test_pred)"
   ]
  },
  {
   "cell_type": "markdown",
   "id": "f6d24b53-4a44-462c-bb9d-eb1711a050fe",
   "metadata": {},
   "source": [
    "## a2. Training a Word2Vec on AGNews"
   ]
  },
  {
   "cell_type": "code",
   "execution_count": 19,
   "id": "f641a173-93f4-4db4-8d88-974ef7e5e7a1",
   "metadata": {},
   "outputs": [
    {
     "name": "stdout",
     "output_type": "stream",
     "text": [
      "(90000, 1)\n"
     ]
    }
   ],
   "source": [
    "# AGNews Corpus\n",
    "df_ag = pd.read_csv(\"ag.csv\")\n",
    "print(df_ag.shape)"
   ]
  },
  {
   "cell_type": "code",
   "execution_count": 20,
   "id": "a410000d-3760-4aa7-a672-cffd5d9c89e6",
   "metadata": {},
   "outputs": [
    {
     "data": {
      "text/plain": [
       "\"wall st. bears claw back into the black (reuters) . reuters - short-sellers, wall street's dwindling band of ultra-cynics, are seeing green again.\""
      ]
     },
     "execution_count": 20,
     "metadata": {},
     "output_type": "execute_result"
    }
   ],
   "source": [
    "# sample text\n",
    "df_ag['text'][0]"
   ]
  },
  {
   "cell_type": "code",
   "execution_count": 21,
   "id": "38703aff-d3d0-4245-9ce7-1c6c0d6817f6",
   "metadata": {},
   "outputs": [],
   "source": [
    "# curate input data for training the Word2Vec model, list of sentences\n",
    "ag_news = list(df_ag['text'].apply(lambda x: clean_text_and_tokenise(x)))"
   ]
  },
  {
   "cell_type": "markdown",
   "id": "32a917cf-55e2-48c8-9e29-1940c082dd70",
   "metadata": {},
   "source": [
    "### initialising model and params"
   ]
  },
  {
   "cell_type": "code",
   "execution_count": 22,
   "id": "817660be-e63e-4ecf-9bee-02b5bf7046e5",
   "metadata": {},
   "outputs": [],
   "source": [
    "from gensim.models import Word2Vec\n",
    "\n",
    "# this will be a shallow deep learning model\n",
    "wv_model = Word2Vec(\n",
    "    sentences=ag_news,\n",
    "    min_count=2, # ignores all words with a total frequency lower than this value.\n",
    "    window=10, # model will consider the n words before and n words after that word as part of the context.\n",
    "    negative=5, # k = the number of negative samples to use\n",
    "    sg=1, # use Skip-Gram model.\n",
    "    vector_size=100,\n",
    "    workers=4\n",
    ")"
   ]
  },
  {
   "cell_type": "markdown",
   "id": "a08db36b-5fbd-4b15-a0c1-0683be68aaf2",
   "metadata": {},
   "source": [
    "### building vocab"
   ]
  },
  {
   "cell_type": "code",
   "execution_count": 23,
   "id": "254abac6-f5d4-4e3e-8ef7-266bf2d3ff57",
   "metadata": {},
   "outputs": [
    {
     "name": "stdout",
     "output_type": "stream",
     "text": [
      "90000\n"
     ]
    }
   ],
   "source": [
    "wv_model.build_vocab(ag_news, progress_per=10000)\n",
    "print(wv_model.corpus_count)"
   ]
  },
  {
   "cell_type": "markdown",
   "id": "107d2da6-037a-4e52-b539-287bc46509ae",
   "metadata": {},
   "source": [
    "### word2vec model training"
   ]
  },
  {
   "cell_type": "code",
   "execution_count": 24,
   "id": "11893225-269f-4fc8-bc68-bb825edd5f97",
   "metadata": {},
   "outputs": [
    {
     "data": {
      "text/plain": [
       "(47616660, 49169920)"
      ]
     },
     "execution_count": 24,
     "metadata": {},
     "output_type": "execute_result"
    }
   ],
   "source": [
    "wv_model.train(\n",
    "    ag_news, \n",
    "    total_examples=wv_model.corpus_count, \n",
    "    epochs=20, \n",
    "    start_alpha=0.04, \n",
    "    end_alpha=0.0001\n",
    ")"
   ]
  },
  {
   "cell_type": "code",
   "execution_count": 25,
   "id": "f74eb3b8-a5ba-453a-afa8-f9bacb6a5dc0",
   "metadata": {},
   "outputs": [],
   "source": [
    "# normalize the word vectors and free up memory\n",
    "wv_model.init_sims(replace=True)"
   ]
  },
  {
   "cell_type": "markdown",
   "id": "4275d047-afd6-466d-ba3a-71848da41cd2",
   "metadata": {},
   "source": [
    "### embeddings generation"
   ]
  },
  {
   "cell_type": "code",
   "execution_count": 26,
   "id": "7014ff22-4c29-4ef4-ace6-4d6fd4ebcf25",
   "metadata": {},
   "outputs": [],
   "source": [
    "# get average vector embeddings for each doc in dataset\n",
    "df = data.copy()\n",
    "df[\"wv_vector\"] = df['text'].apply(lambda x: get_avg_word_vector(x, wv_model.wv))"
   ]
  },
  {
   "cell_type": "code",
   "execution_count": 27,
   "id": "21a8b71c-3227-42a3-afb5-48291108efda",
   "metadata": {},
   "outputs": [
    {
     "name": "stdout",
     "output_type": "stream",
     "text": [
      "train_data_size: 79.9983%, validation_data_size: 10.0009%, test_data_size: 10.0009%\n"
     ]
    }
   ],
   "source": [
    "# get splits across dataset\n",
    "train_x, val_x, test_x, train_y, val_y, test_y = get_data_splits(df, col=\"wv_vector\")\n",
    "\n",
    "print(\n",
    "    \"train_data_size: {}%, validation_data_size: {}%, test_data_size: {}%\".format(\n",
    "    round(100 * len(train_x)/len(df), 4), \n",
    "    round(100 * len(val_x)/len(df), 4), \n",
    "    round(100 * len(test_x)/len(df), 4))\n",
    ")\n",
    "\n",
    "# concat train and val for predefined validation dataset\n",
    "split_index = [-1]*len(train_x) + [0]*len(val_x)\n",
    "X = np.concatenate((train_x, val_x), axis=0)\n",
    "Y = np.concatenate((train_y, val_y), axis=0)"
   ]
  },
  {
   "cell_type": "markdown",
   "id": "ae5d58a8-e9af-4f38-b422-93ac067c62d0",
   "metadata": {},
   "source": [
    "### train LR and inference"
   ]
  },
  {
   "cell_type": "code",
   "execution_count": 28,
   "id": "ed95f83e-0f28-4712-aa68-0be88379cd54",
   "metadata": {},
   "outputs": [
    {
     "name": "stdout",
     "output_type": "stream",
     "text": [
      "Best Parameters: {'C': 100, 'class_weight': None, 'max_iter': 100, 'penalty': 'l2'} Best Accuracy on Validation set 0.9765625\n"
     ]
    }
   ],
   "source": [
    "# train\n",
    "model_lr_word2vec = get_best_LR(X, Y, split_index, param_grid)"
   ]
  },
  {
   "cell_type": "code",
   "execution_count": 29,
   "id": "8d8af040-2473-4734-befd-1147731ad0b6",
   "metadata": {},
   "outputs": [
    {
     "name": "stdout",
     "output_type": "stream",
     "text": [
      "Accuracy: 0.9748263888888888\n",
      "Macro F1 Score: 0.9328064380832547\n",
      "Micro F1 Score: 0.9748263888888888\n"
     ]
    }
   ],
   "source": [
    "# infer using the best model on the test set\n",
    "y_test_pred = model_lr_word2vec.predict(test_x)\n",
    "\n",
    "# calculate metrics on the test set\n",
    "print_metrics(test_y, y_test_pred)"
   ]
  },
  {
   "cell_type": "code",
   "execution_count": 30,
   "id": "ed0a3c06-7128-4bb1-9dd6-65d375da2579",
   "metadata": {},
   "outputs": [
    {
     "data": {
      "image/png": "[encoded data removed]",
      "text/plain": [
       "<Figure size 640x480 with 2 Axes>"
      ]
     },
     "metadata": {},
     "output_type": "display_data"
    }
   ],
   "source": [
    "plot_confusion_matrix(test_y, y_test_pred)"
   ]
  },
  {
   "cell_type": "markdown",
   "id": "6bb950e2-8cbf-4305-8d12-b53d4544ffe4",
   "metadata": {},
   "source": [
    "## a3. Training a Word2Vec on NYU News dataset"
   ]
  },
  {
   "cell_type": "code",
   "execution_count": 31,
   "id": "f2864d58-e089-468b-85c2-26192984a61f",
   "metadata": {},
   "outputs": [],
   "source": [
    "# nyt data\n",
    "nyt = data.copy()\n",
    "\n",
    "# curate input data for training the Word2Vec model, list of sentences\n",
    "nyt_news = list(df_ag['text'].apply(lambda x: clean_text_and_tokenise(x)))"
   ]
  },
  {
   "cell_type": "markdown",
   "id": "7baab9de-0977-4a66-98a1-f6601122567a",
   "metadata": {},
   "source": [
    "### initialising model and params"
   ]
  },
  {
   "cell_type": "code",
   "execution_count": 32,
   "id": "07f1253c-1687-42c9-9a4e-31115d1061e4",
   "metadata": {},
   "outputs": [],
   "source": [
    "# this will be a shallow deep learning model\n",
    "wv_model_nyt = Word2Vec(\n",
    "    sentences=nyt_news,\n",
    "    min_count=2, # ignores all words with a total frequency lower than this value.\n",
    "    window=7, # model will consider the n words before and n words after that word as part of the context.\n",
    "    negative=5, # k = the number of negative samples to use\n",
    "    sg=0, # use CBOW model.\n",
    "    vector_size=100,\n",
    "    workers=4\n",
    ")"
   ]
  },
  {
   "cell_type": "markdown",
   "id": "8fd7caf0-d388-4fae-a9c6-49c57f6e9343",
   "metadata": {},
   "source": [
    "### building vocab"
   ]
  },
  {
   "cell_type": "code",
   "execution_count": 33,
   "id": "09dc2933-92e1-4f74-8fe2-642a36f140a5",
   "metadata": {},
   "outputs": [
    {
     "name": "stdout",
     "output_type": "stream",
     "text": [
      "90000\n"
     ]
    }
   ],
   "source": [
    "wv_model_nyt.build_vocab(nyt_news, progress_per=10000)\n",
    "print(wv_model_nyt.corpus_count)"
   ]
  },
  {
   "cell_type": "markdown",
   "id": "c61f23ca-f22c-48cf-9abf-9902b83be557",
   "metadata": {},
   "source": [
    "### word2vec model training"
   ]
  },
  {
   "cell_type": "code",
   "execution_count": 34,
   "id": "1f78db24-26b8-45da-b7af-e2ebf2d28f81",
   "metadata": {},
   "outputs": [
    {
     "data": {
      "text/plain": [
       "(23807317, 24584960)"
      ]
     },
     "execution_count": 34,
     "metadata": {},
     "output_type": "execute_result"
    }
   ],
   "source": [
    "wv_model_nyt.train(\n",
    "    nyt_news, \n",
    "    total_examples=wv_model_nyt.corpus_count, \n",
    "    epochs=10,\n",
    "    start_alpha=0.1, \n",
    "    end_alpha=0.0001\n",
    ")"
   ]
  },
  {
   "cell_type": "code",
   "execution_count": 35,
   "id": "b2cb2eb6-1d83-43d6-ad6c-aed2107a8b76",
   "metadata": {},
   "outputs": [],
   "source": [
    "# normalize the word vectors and free up memory\n",
    "wv_model_nyt.init_sims(replace=True)"
   ]
  },
  {
   "cell_type": "markdown",
   "id": "6ccaafb3-dc15-4611-a7ac-c80bf64408e6",
   "metadata": {},
   "source": [
    "### embeddings generation"
   ]
  },
  {
   "cell_type": "code",
   "execution_count": 36,
   "id": "1502f1b9-26a1-479a-bca8-41050e9fc782",
   "metadata": {},
   "outputs": [],
   "source": [
    "# get average vector embeddings for each doc in dataset\n",
    "nyt[\"wv_vector\"] = nyt['text'].apply(lambda x: get_avg_word_vector(x, wv_model_nyt.wv))"
   ]
  },
  {
   "cell_type": "code",
   "execution_count": 37,
   "id": "7e92cbc4-3961-4518-b09f-233ca402a02b",
   "metadata": {},
   "outputs": [
    {
     "name": "stdout",
     "output_type": "stream",
     "text": [
      "train_data_size: 79.9983%, validation_data_size: 10.0009%, test_data_size: 10.0009%\n"
     ]
    }
   ],
   "source": [
    "# get splits across dataset\n",
    "train_x, val_x, test_x, train_y, val_y, test_y = get_data_splits(nyt, col=\"wv_vector\")\n",
    "\n",
    "print(\n",
    "    \"train_data_size: {}%, validation_data_size: {}%, test_data_size: {}%\".format(\n",
    "    round(100 * len(train_x)/len(df), 4), \n",
    "    round(100 * len(val_x)/len(df), 4), \n",
    "    round(100 * len(test_x)/len(df), 4))\n",
    ")\n",
    "\n",
    "# concat train and val for predefined validation dataset\n",
    "split_index = [-1]*len(train_x) + [0]*len(val_x)\n",
    "X = np.concatenate((train_x, val_x), axis=0)\n",
    "Y = np.concatenate((train_y, val_y), axis=0)"
   ]
  },
  {
   "cell_type": "markdown",
   "id": "123d28e1-bd30-40fe-b49b-016b263463c7",
   "metadata": {},
   "source": [
    "### train LR and inference"
   ]
  },
  {
   "cell_type": "code",
   "execution_count": 38,
   "id": "62f62284-9877-45df-8f71-0900356a6523",
   "metadata": {},
   "outputs": [
    {
     "name": "stdout",
     "output_type": "stream",
     "text": [
      "Best Parameters: {'C': 100, 'class_weight': None, 'max_iter': 100, 'penalty': 'l2'} Best Accuracy on Validation set 0.9791666666666666\n"
     ]
    }
   ],
   "source": [
    "# train\n",
    "model_lr_word2vec = get_best_LR(X, Y, split_index, param_grid)"
   ]
  },
  {
   "cell_type": "code",
   "execution_count": 39,
   "id": "55796ad3-3a19-4380-90c4-4f954367e3ad",
   "metadata": {},
   "outputs": [
    {
     "name": "stdout",
     "output_type": "stream",
     "text": [
      "Accuracy: 0.9756944444444444\n",
      "Macro F1 Score: 0.9341127713859936\n",
      "Micro F1 Score: 0.9756944444444444\n"
     ]
    }
   ],
   "source": [
    "# infer using the best model on the test set\n",
    "y_test_pred = model_lr_word2vec.predict(test_x)\n",
    "\n",
    "# calculate metrics on the test set\n",
    "print_metrics(test_y, y_test_pred)"
   ]
  },
  {
   "cell_type": "code",
   "execution_count": 40,
   "id": "ce31d8b1-7e32-423c-a90c-192d2e1f13ba",
   "metadata": {},
   "outputs": [
    {
     "data": {
      "image/png": "[encoded data removed]",
      "text/plain": [
       "<Figure size 640x480 with 2 Axes>"
      ]
     },
     "metadata": {},
     "output_type": "display_data"
    }
   ],
   "source": [
    "plot_confusion_matrix(test_y, y_test_pred)"
   ]
  },
  {
   "cell_type": "markdown",
   "id": "b6829402-9f94-47c4-b4ed-9b0608cf2de6",
   "metadata": {},
   "source": [
    "## Question\n",
    "\n",
    "**(b) What are the disadvantages of averaging word vectors for the document representation? Describe an idea to overcome this.**\n",
    "\n",
    "\n",
    "**Disadvantages of average word vector representation**\n",
    "\n",
    "The major disadvantage of averaging word vectors arises when polar words (eg \"good\", \"bad\") appear in the same document. Word2Vec models (**word2vec-google-news-300.model**) achieves the following cosine similarity values for different polar words:\n",
    "* sim(**good, bad**) = 0.72\n",
    "* sim(**bullish, bearish**) = 0.88\n",
    "* sim(**long, short**) = 0.57\n",
    "\n",
    "In tasks like sentiment analysis, this can lead to a loss of important information, as opposing sentiments (good, bad) may cancel each other out. Another example is automating stock trading using NLP, where financial losses could occur because words like \"bullish\" and \"bearish\" may be treated as similar, despite having opposite meanings.\n",
    "\n",
    "**Mitigation Strategies**\n",
    "1. We can use a more context aware representaion of words, such as advanced models like ELMo, Bert, which capture the meaning of words based on their context.\n",
    "2. We can fine-tune or train word embeddings specifically for sentiment analysis or financial sentiment tasks, ensuring that words like \"bullish\" and \"bearish\" are assigned distinct vectors, even if they appear similar in general-purpose embeddings."
   ]
  }
 ],
 "metadata": {
  "kernelspec": {
   "display_name": "Python 3 (ipykernel)",
   "language": "python",
   "name": "python3"
  },
  "language_info": {
   "codemirror_mode": {
    "name": "ipython",
    "version": 3
   },
   "file_extension": ".py",
   "mimetype": "text/x-python",
   "name": "python",
   "nbconvert_exporter": "python",
   "pygments_lexer": "ipython3",
   "version": "3.12.5"
  }
 },
 "nbformat": 4,
 "nbformat_minor": 5
}
